{
 "cells": [
  {
   "cell_type": "code",
   "execution_count": null,
   "metadata": {},
   "outputs": [],
   "source": [
    "import pandas as pd\n",
    "import xlrd\n",
    "import xlwt"
   ]
  },
  {
   "cell_type": "code",
   "execution_count": null,
   "metadata": {},
   "outputs": [],
   "source": [
    "di = {\n",
    "    'Понедельник[Вход]': 'first_in',\n",
    "    'Понедельник[Выход]': 'last_out',\n",
    "    'Понедельник[Присутствие]': 'pure_work_time',\n",
    "    'Вторник[Вход]': 'first_in',\n",
    "    'Вторник[Выход]': 'last_out',\n",
    "    'Вторник[Присутствие]': 'pure_work_time',\n",
    "    'Среда[Вход]': 'first_in',\n",
    "    'Среда[Выход]': 'last_out',\n",
    "    'Среда[Присутствие]': 'pure_work_time',\n",
    "    'Четверг[Вход]': 'first_in',\n",
    "    'Четверг[Выход]': 'last_out',\n",
    "    'Четверг[Присутствие]': 'pure_work_time',\n",
    "    'Пятница[Вход]': 'first_in',\n",
    "    'Пятница[Выход]': 'last_out',\n",
    "    'Пятница[Присутствие]': 'pure_work_time',\n",
    "    'Суббота[Вход]': 'first_in',\n",
    "    'Суббота[Выход]': 'last_out',\n",
    "    'Суббота[Присутствие]': 'pure_work_time',\n",
    "    'Воскресенье[Вход]': 'first_in',\n",
    "    'Воскресенье[Выход]': 'last_out',\n",
    "    'Воскресенье[Присутствие]': 'pure_work_time'}"
   ]
  },
  {
   "cell_type": "code",
   "execution_count": null,
   "metadata": {},
   "outputs": [],
   "source": [
    "df = pd.read_excel(\"skud.xlsx\", header=3)"
   ]
  },
  {
   "cell_type": "code",
   "execution_count": null,
   "metadata": {},
   "outputs": [],
   "source": [
    "df = df.rename(index=str, columns={\"Таб. №\": \"tab_number\", \"Сотрудник\": \"emp_name\"})"
   ]
  },
  {
   "cell_type": "code",
   "execution_count": null,
   "metadata": {},
   "outputs": [],
   "source": [
    "df.drop(columns=[\"Подразделение\", \"Должность\",\"Всего\"], axis=0, inplace=True)"
   ]
  },
  {
   "cell_type": "code",
   "execution_count": null,
   "metadata": {},
   "outputs": [],
   "source": [
    "df.drop_duplicates(inplace=True)"
   ]
  },
  {
   "cell_type": "code",
   "execution_count": null,
   "metadata": {},
   "outputs": [],
   "source": [
    "df.drop(df[df[\"tab_number\"].isnull()].index, inplace=True)"
   ]
  },
  {
   "cell_type": "code",
   "execution_count": null,
   "metadata": {},
   "outputs": [],
   "source": [
    "df.drop(df[df[\"emp_name\"].isnull()].index, inplace=True)"
   ]
  },
  {
   "cell_type": "code",
   "execution_count": null,
   "metadata": {},
   "outputs": [],
   "source": [
    "df.fillna('0', inplace=True)"
   ]
  },
  {
   "cell_type": "code",
   "execution_count": null,
   "metadata": {},
   "outputs": [],
   "source": [
    "df = df.melt(id_vars=['tab_number','emp_name'])"
   ]
  },
  {
   "cell_type": "code",
   "execution_count": null,
   "metadata": {},
   "outputs": [],
   "source": [
    "df[['action_date','description']] = df['variable'].str.split(' ',expand=True)"
   ]
  },
  {
   "cell_type": "code",
   "execution_count": null,
   "metadata": {},
   "outputs": [],
   "source": [
    "df.drop(columns=[\"variable\"], axis=0, inplace=True)"
   ]
  },
  {
   "cell_type": "code",
   "execution_count": null,
   "metadata": {},
   "outputs": [],
   "source": [
    "df.replace({\"description\": di}, inplace=True)"
   ]
  },
  {
   "cell_type": "code",
   "execution_count": null,
   "metadata": {},
   "outputs": [],
   "source": [
    "df['_index_'] = df[['tab_number','emp_name', 'action_date']].apply(lambda x: '~'.join(x), axis=1)"
   ]
  },
  {
   "cell_type": "code",
   "execution_count": null,
   "metadata": {},
   "outputs": [],
   "source": [
    "pivoted = df.pivot('_index_', 'description', 'value')"
   ]
  },
  {
   "cell_type": "code",
   "execution_count": null,
   "metadata": {},
   "outputs": [],
   "source": [
    "pivoted['_index_'] = pivoted.index"
   ]
  },
  {
   "cell_type": "code",
   "execution_count": null,
   "metadata": {},
   "outputs": [],
   "source": [
    "pivoted[['tab_number','emp_name', 'action_date']] = pivoted['_index_'].str.split('~',expand=True)"
   ]
  },
  {
   "cell_type": "code",
   "execution_count": null,
   "metadata": {},
   "outputs": [],
   "source": [
    "pivoted.drop(columns=['_index_'], axis=0, inplace=True)"
   ]
  },
  {
   "cell_type": "code",
   "execution_count": null,
   "metadata": {},
   "outputs": [],
   "source": [
    "pivoted.to_excel('dddd.xls')"
   ]
  },
  {
   "cell_type": "code",
   "execution_count": null,
   "metadata": {},
   "outputs": [],
   "source": [
    "pivoted.reset_index(drop=True, inplace=True)"
   ]
  }
 ],
 "metadata": {
  "kernelspec": {
   "display_name": "Python 3",
   "language": "python",
   "name": "python3"
  },
  "language_info": {
   "codemirror_mode": {
    "name": "ipython",
    "version": 3
   },
   "file_extension": ".py",
   "mimetype": "text/x-python",
   "name": "python",
   "nbconvert_exporter": "python",
   "pygments_lexer": "ipython3",
   "version": "3.6.6"
  }
 },
 "nbformat": 4,
 "nbformat_minor": 2
}
