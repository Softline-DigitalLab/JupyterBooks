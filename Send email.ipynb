{
 "cells": [
  {
   "cell_type": "code",
   "execution_count": 10,
   "metadata": {},
   "outputs": [
    {
     "data": {
      "text/plain": [
       "(221, b'relay.office.softline.ru closing connection')"
      ]
     },
     "execution_count": 10,
     "metadata": {},
     "output_type": "execute_result"
    }
   ],
   "source": [
    "import smtplib\n",
    " \n",
    "HOST = \"192.168.0.60\"\n",
    "PORT = 25\n",
    "SUBJECT = \"Test email from Python\"\n",
    "TO = \"Andrey.Shlepin@softline.com\"\n",
    "FROM = \"digitallab@softlinegroup.com\"\n",
    "text = \"Python 3.4 rules them all!\"\n",
    " \n",
    "BODY = \"\\r\\n\".join((\n",
    "    \"From: %s\" % FROM,\n",
    "    \"To: %s\" % TO,\n",
    "    \"Subject: %s\" % SUBJECT ,\n",
    "    \"\",\n",
    "    text\n",
    "))\n",
    " \n",
    "server = smtplib.SMTP(HOST, PORT)\n",
    "server.sendmail(FROM, [TO], BODY)\n",
    "server.quit()"
   ]
  }
 ],
 "metadata": {
  "kernelspec": {
   "display_name": "Python 3",
   "language": "python",
   "name": "python3"
  },
  "language_info": {
   "codemirror_mode": {
    "name": "ipython",
    "version": 3
   },
   "file_extension": ".py",
   "mimetype": "text/x-python",
   "name": "python",
   "nbconvert_exporter": "python",
   "pygments_lexer": "ipython3",
   "version": "3.6.6"
  }
 },
 "nbformat": 4,
 "nbformat_minor": 2
}
